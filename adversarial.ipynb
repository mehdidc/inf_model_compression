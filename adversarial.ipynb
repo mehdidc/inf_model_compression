{
 "metadata": {
  "language": "lua",
  "name": "",
  "signature": "sha256:d6159f7d8f129469a739fec1243a4dee9d29afa2a43f8f3e0cea368df4b4bcb9"
 },
 "nbformat": 3,
 "nbformat_minor": 0,
 "worksheets": [
  {
   "cells": [
    {
     "cell_type": "code",
     "collapsed": false,
     "input": [
      "from lasagne.objectives import adversarial_loss_generator, adversarial_loss_discriminator\n",
      "import lasagne.easy\n",
      "import lasagne.data\n",
      "import lasagne.layers\n",
      "import numpy as np\n",
      "import theano\n",
      "import time\n",
      "\n",
      "\n",
      "\n",
      "\n",
      "\n",
      "\n",
      "def build_model(input_dim, output_dim,\n",
      "                batch_size, num_hidden_units):\n",
      "\n",
      "    l_in = lasagne.layers.InputLayer(\n",
      "            shape=(None, input_dim),\n",
      "        )\n",
      "    l_hidden1 = lasagne.layers.DenseLayer(\n",
      "        l_in,\n",
      "        num_units=num_hidden_units,\n",
      "        nonlinearity=lasagne.nonlinearities.rectify,\n",
      "        W=lasagne.init.Normal()\n",
      "        )\n",
      "    l_hidden2 = lasagne.layers.DenseLayer(\n",
      "        l_hidden1,\n",
      "        num_units=num_hidden_units,\n",
      "        nonlinearity=lasagne.nonlinearities.rectify,\n",
      "        W=lasagne.init.Normal()\n",
      "    )\n",
      "    \n",
      "#    l_hidden1_dropout = lasagne.layers.DropoutLayer(\n",
      "#        l_hidden1,\n",
      "#        p=0.2,\n",
      "#        )\n",
      "#    l_hidden2 = lasagne.layers.DenseLayer(\n",
      "#        l_hidden1,\n",
      "#        num_units=num_hidden_units,\n",
      "#        nonlinearity=lasagne.nonlinearities.rectify,\n",
      "#        W=lasagne.init.Orthogonal()\n",
      "#        )\n",
      "    #l_hidden2_dropout = lasagne.layers.DropoutLayer(\n",
      "    #    l_hidden2,\n",
      "    #    p=0.2,\n",
      "    #    )\n",
      "    l_out = lasagne.layers.DenseLayer(\n",
      "        l_hidden2,\n",
      "        num_units=output_dim,\n",
      "        nonlinearity=lasagne.nonlinearities.sigmoid,\n",
      "        W=lasagne.init.Normal()\n",
      "        )\n",
      "    return l_out\n",
      "\n",
      "\n",
      "def load_data():\n",
      "    datasets = lasagne.data.Mnist()\n",
      "    datasets.load(ratio_valid=0.2)\n",
      "    return datasets[\"train\"], datasets[\"valid\"], datasets[\"test\"]\n",
      "\n",
      "\n",
      "# load data\n",
      "train, valid, test = load_data()\n",
      "\n"
     ],
     "language": "python",
     "metadata": {},
     "outputs": [],
     "prompt_number": 2
    },
    {
     "cell_type": "code",
     "collapsed": false,
     "input": [
      "# Setting hyper-params\n",
      "from theano.sandbox.rng_mrg import MRG_RandomStreams\n",
      "random_stream = MRG_RandomStreams(2014 * 5 + 27)\n",
      "\n",
      "\n",
      "input_dim = train.X.get_value().shape[1]\n",
      "\n",
      "\n",
      "output_dim = 1\n",
      "batch_size = 100\n",
      "nb_batches = train.X.get_value().shape[0] // batch_size\n",
      "generator_input_dim = 100\n",
      "generator_noise = lambda size : random_stream.uniform(low=-3, high=3, size=size, dtype='float32')\n",
      "generate_noise = lambda size : (theano.function([], generator_noise(size)))()\n",
      "\n",
      "\n",
      "# config\n",
      "batch_index, X_batch, y_batch, batch_slice = lasagne.easy.get_theano_batch_variables(batch_size, prefix='')\n",
      "(  batch_index_generator,\n",
      "   X_batch_generator, y_batch_generator,\n",
      "   batch_slice_generator) = lasagne.easy.get_theano_batch_variables(batch_size, prefix='_generator')\n",
      "\n",
      "save_each = 10"
     ],
     "language": "python",
     "metadata": {},
     "outputs": [],
     "prompt_number": 4
    },
    {
     "cell_type": "code",
     "collapsed": false,
     "input": [
      "# build model\n",
      "discriminator_model = build_model(input_dim, 1, num_hidden_units=500, batch_size=batch_size)\n",
      "generator_model     = build_model(generator_input_dim, input_dim,\n",
      "                                       num_hidden_units=1200, batch_size=batch_size)\n",
      "\n",
      "\n",
      "generator_prediction = lambda X : generator_model.get_output(X, deterministic=True)\n",
      "discriminator_prediction = lambda X : discriminator_model.get_output(X, determnistic=True)\n",
      "\n",
      "\n"
     ],
     "language": "python",
     "metadata": {},
     "outputs": [],
     "prompt_number": 5
    },
    {
     "cell_type": "code",
     "collapsed": false,
     "input": [
      "# get the loss\n",
      "loss_discriminator = lasagne.objectives.adversarial_loss_discriminator(X_batch, X_batch_generator, generator_prediction, discriminator_prediction)\n",
      "loss_generator = lasagne.objectives.adversarial_loss_generator(X_batch, X_batch_generator, generator_prediction, discriminator_prediction)\n",
      "\n",
      "loss = loss_discriminator\n",
      "get_loss = theano.function([X_batch, X_batch_generator], loss)\n",
      "\n",
      "# get the gradient updates\n",
      "all_params_discriminator = lasagne.layers.get_all_params(discriminator_model)\n",
      "all_params_generator = lasagne.layers.get_all_params(generator_model)\n",
      "momentum = 0.5\n",
      "updates_discriminator = lasagne.updates.momentum(loss_discriminator, all_params_discriminator, learning_rate=0.5, momentum=momentum)\n",
      "updates_generator = lasagne.updates.momentum(loss_generator, all_params_generator, learning_rate=0.5, momentum=momentum)\n",
      "\n",
      "\n",
      "# get the iteration update\n",
      "iter_train_discriminator = theano.function(\n",
      "    [batch_index], loss_discriminator,\n",
      "    updates=updates_discriminator,\n",
      "    givens={\n",
      "        X_batch: train.X[batch_slice],\n",
      "        X_batch_generator : generator_noise((batch_size, generator_input_dim))\n",
      "        },\n",
      ")\n",
      "\n",
      "iter_train_generator = theano.function(\n",
      "    [batch_index], loss_generator,\n",
      "    updates=updates_generator,\n",
      "    givens={\n",
      "        X_batch_generator : generator_noise((batch_size, generator_input_dim)),\n",
      "        X_batch: train.X[batch_slice]\n",
      "        },\n",
      ")\n",
      "\n",
      "discriminator_predict = theano.function([X_batch], discriminator_prediction(X_batch))\n",
      "generator_predict = theano.function([X_batch_generator], generator_prediction(X_batch_generator))\n"
     ],
     "language": "python",
     "metadata": {},
     "outputs": [],
     "prompt_number": 6
    },
    {
     "cell_type": "code",
     "collapsed": false,
     "input": [
      "nb_epochs = 20\n",
      "nb_iter_discriminator = 2\n",
      "nb_iter_generator = 1\n",
      "for epoch in range(nb_epochs):\n",
      "    print \"epoch %d\" % (epoch,)\n",
      "    t = time.time()\n",
      "    stat = {}\n",
      "    # train\n",
      "    \n",
      "    \n",
      "    for k in xrange(nb_iter_discriminator):\n",
      "        iter_train_discriminator(np.random.randint(0, nb_batches - 1))\n",
      "    \n",
      "    for k in xrange(nb_iter_generator):\n",
      "        iter_train_generator(np.random.randint(0, nb_batches - 1))\n",
      "\n",
      "    for label, data in zip((\"train\", \"valid\", \"test\"), (train, valid, test)):\n",
      "        loss = get_loss(data.X.get_value(), generate_noise((data.X.get_value().shape[0], generator_input_dim)))\n",
      "        print \"loss of %s : %f\" % (label,\n",
      "                                   -loss)\n",
      "        if label == \"train\":\n",
      "            noise = generate_noise((data.X.get_value().shape[0], generator_input_dim))\n",
      "            noise_images = generator_predict(noise)\n",
      "            preds_generated = np.mean(discriminator_predict(noise_images))\n",
      "            preds_data = np.mean(discriminator_predict(data.X.get_value()))\n",
      "            d = preds_data/(preds_data + preds_generated)\n",
      "          \n",
      "            \n",
      "            print \"preds generated : %f\" % (preds_generated,)\n",
      "            print \"preds data : %f\" % (preds_data,)\n",
      "\n",
      "        stat[label + \"_loss\"] = loss\n",
      "\n",
      "    # save the experiment class\n",
      "    #if epoch % save_each == 0:\n",
      "    #    print(\"saving the model...\")\n",
      "    #    fd = open(\"model.pkl\", \"w\")\n",
      "    #    #save(fd)\n",
      "    #    fd.close()\n",
      "    #    print(\"saved the model.\")\n",
      "    print \"Took %f seconds\" % (time.time() - t,)\n"
     ],
     "language": "python",
     "metadata": {},
     "outputs": [
      {
       "output_type": "stream",
       "stream": "stdout",
       "text": [
        "epoch 0\n",
        "loss of train : -1.000000"
       ]
      },
      {
       "output_type": "stream",
       "stream": "stdout",
       "text": [
        "\n",
        "preds generated : 0.000000"
       ]
      },
      {
       "output_type": "stream",
       "stream": "stdout",
       "text": [
        "\n",
        "preds data : 0.000000\n",
        "loss of valid : -1.000000"
       ]
      },
      {
       "output_type": "stream",
       "stream": "stdout",
       "text": [
        "\n",
        "loss of test : -1.000000"
       ]
      },
      {
       "output_type": "stream",
       "stream": "stdout",
       "text": [
        "\n",
        "Took 2.501380 seconds\n",
        "epoch 1\n",
        "loss of train : -1.000000"
       ]
      },
      {
       "output_type": "stream",
       "stream": "stdout",
       "text": [
        "\n",
        "preds generated : 0.000000"
       ]
      },
      {
       "output_type": "stream",
       "stream": "stdout",
       "text": [
        "\n",
        "preds data : 0.000000\n",
        "loss of valid : -1.000000"
       ]
      },
      {
       "output_type": "stream",
       "stream": "stdout",
       "text": [
        "\n",
        "loss of test : -1.000000"
       ]
      },
      {
       "output_type": "stream",
       "stream": "stdout",
       "text": [
        "\n",
        "Took 2.593518 seconds\n",
        "epoch 2\n",
        "loss of train : -1.000000"
       ]
      },
      {
       "output_type": "stream",
       "stream": "stdout",
       "text": [
        "\n",
        "preds generated : 0.000000"
       ]
      },
      {
       "output_type": "stream",
       "stream": "stdout",
       "text": [
        "\n",
        "preds data : 0.000000\n",
        "loss of valid : -1.000000"
       ]
      },
      {
       "output_type": "stream",
       "stream": "stdout",
       "text": [
        "\n",
        "loss of test : -1.000000"
       ]
      },
      {
       "output_type": "stream",
       "stream": "stdout",
       "text": [
        "\n",
        "Took 2.161062 seconds\n",
        "epoch 3\n",
        "loss of train : -1.000000"
       ]
      },
      {
       "output_type": "stream",
       "stream": "stdout",
       "text": [
        "\n",
        "preds generated : 0.000000"
       ]
      },
      {
       "output_type": "stream",
       "stream": "stdout",
       "text": [
        "\n",
        "preds data : 0.000000\n",
        "loss of valid : -1.000000"
       ]
      },
      {
       "output_type": "stream",
       "stream": "stdout",
       "text": [
        "\n",
        "loss of test : -1.000000"
       ]
      },
      {
       "output_type": "stream",
       "stream": "stdout",
       "text": [
        "\n",
        "Took 2.392204 seconds\n",
        "epoch 4\n",
        "loss of train : -1.000000"
       ]
      },
      {
       "output_type": "stream",
       "stream": "stdout",
       "text": [
        "\n",
        "preds generated : 0.000000"
       ]
      },
      {
       "output_type": "stream",
       "stream": "stdout",
       "text": [
        "\n",
        "preds data : 0.000000\n",
        "loss of valid : -1.000000"
       ]
      },
      {
       "output_type": "stream",
       "stream": "stdout",
       "text": [
        "\n",
        "loss of test : -1.000000"
       ]
      },
      {
       "output_type": "stream",
       "stream": "stdout",
       "text": [
        "\n",
        "Took 2.327982 seconds\n",
        "epoch 5\n",
        "loss of train : -1.000000"
       ]
      },
      {
       "output_type": "stream",
       "stream": "stdout",
       "text": [
        "\n",
        "preds generated : 0.000000"
       ]
      },
      {
       "output_type": "stream",
       "stream": "stdout",
       "text": [
        "\n",
        "preds data : 0.000000\n",
        "loss of valid : -1.000000"
       ]
      },
      {
       "output_type": "stream",
       "stream": "stdout",
       "text": [
        "\n",
        "loss of test : -1.000000"
       ]
      },
      {
       "output_type": "stream",
       "stream": "stdout",
       "text": [
        "\n",
        "Took 2.312746 seconds\n",
        "epoch 6\n",
        "loss of train : -1.000000"
       ]
      },
      {
       "output_type": "stream",
       "stream": "stdout",
       "text": [
        "\n",
        "preds generated : 0.000000"
       ]
      },
      {
       "output_type": "stream",
       "stream": "stdout",
       "text": [
        "\n",
        "preds data : 0.000000\n",
        "loss of valid : -1.000000"
       ]
      },
      {
       "output_type": "stream",
       "stream": "stdout",
       "text": [
        "\n",
        "loss of test : -1.000000"
       ]
      },
      {
       "output_type": "stream",
       "stream": "stdout",
       "text": [
        "\n",
        "Took 2.261279 seconds\n",
        "epoch 7\n",
        "loss of train : -1.000000"
       ]
      },
      {
       "output_type": "stream",
       "stream": "stdout",
       "text": [
        "\n",
        "preds generated : 0.000000"
       ]
      },
      {
       "output_type": "stream",
       "stream": "stdout",
       "text": [
        "\n",
        "preds data : 0.000000\n",
        "loss of valid : -1.000000"
       ]
      },
      {
       "output_type": "stream",
       "stream": "stdout",
       "text": [
        "\n",
        "loss of test : -1.000000"
       ]
      },
      {
       "output_type": "stream",
       "stream": "stdout",
       "text": [
        "\n",
        "Took 2.269518 seconds\n",
        "epoch 8\n",
        "loss of train : -1.000000"
       ]
      },
      {
       "output_type": "stream",
       "stream": "stdout",
       "text": [
        "\n",
        "preds generated : 0.000000"
       ]
      },
      {
       "output_type": "stream",
       "stream": "stdout",
       "text": [
        "\n",
        "preds data : 0.000000\n",
        "loss of valid : -1.000000"
       ]
      },
      {
       "output_type": "stream",
       "stream": "stdout",
       "text": [
        "\n",
        "loss of test : -1.000000"
       ]
      },
      {
       "output_type": "stream",
       "stream": "stdout",
       "text": [
        "\n",
        "Took 2.522468 seconds\n",
        "epoch 9\n",
        "loss of train : -1.000000"
       ]
      },
      {
       "output_type": "stream",
       "stream": "stdout",
       "text": [
        "\n",
        "preds generated : 0.000000"
       ]
      },
      {
       "output_type": "stream",
       "stream": "stdout",
       "text": [
        "\n",
        "preds data : 0.000000\n",
        "loss of valid : -1.000000"
       ]
      },
      {
       "output_type": "stream",
       "stream": "stdout",
       "text": [
        "\n",
        "loss of test : -1.000000"
       ]
      },
      {
       "output_type": "stream",
       "stream": "stdout",
       "text": [
        "\n",
        "Took 2.505204 seconds\n",
        "epoch 10\n",
        "loss of train : -1.000000"
       ]
      },
      {
       "output_type": "stream",
       "stream": "stdout",
       "text": [
        "\n",
        "preds generated : 0.000000"
       ]
      },
      {
       "output_type": "stream",
       "stream": "stdout",
       "text": [
        "\n",
        "preds data : 0.000000\n",
        "loss of valid : -1.000000"
       ]
      },
      {
       "output_type": "stream",
       "stream": "stdout",
       "text": [
        "\n",
        "loss of test : -1.000000"
       ]
      },
      {
       "output_type": "stream",
       "stream": "stdout",
       "text": [
        "\n",
        "Took 2.264967 seconds\n",
        "epoch 11\n",
        "loss of train : -1.000000"
       ]
      },
      {
       "output_type": "stream",
       "stream": "stdout",
       "text": [
        "\n",
        "preds generated : 0.000000"
       ]
      },
      {
       "output_type": "stream",
       "stream": "stdout",
       "text": [
        "\n",
        "preds data : 0.000000\n",
        "loss of valid : -1.000000"
       ]
      },
      {
       "output_type": "stream",
       "stream": "stdout",
       "text": [
        "\n",
        "loss of test : -1.000000"
       ]
      },
      {
       "output_type": "stream",
       "stream": "stdout",
       "text": [
        "\n",
        "Took 2.234139 seconds\n",
        "epoch 12\n",
        "loss of train : -1.000000"
       ]
      },
      {
       "output_type": "stream",
       "stream": "stdout",
       "text": [
        "\n",
        "preds generated : 0.000000"
       ]
      },
      {
       "output_type": "stream",
       "stream": "stdout",
       "text": [
        "\n",
        "preds data : 0.000000\n",
        "loss of valid : -1.000000"
       ]
      },
      {
       "output_type": "stream",
       "stream": "stdout",
       "text": [
        "\n",
        "loss of test : -1.000000"
       ]
      },
      {
       "output_type": "stream",
       "stream": "stdout",
       "text": [
        "\n",
        "Took 2.458031 seconds\n",
        "epoch 13\n",
        "loss of train : -1.000000"
       ]
      },
      {
       "output_type": "stream",
       "stream": "stdout",
       "text": [
        "\n",
        "preds generated : 0.000000"
       ]
      },
      {
       "output_type": "stream",
       "stream": "stdout",
       "text": [
        "\n",
        "preds data : 0.000000\n",
        "loss of valid : -1.000000"
       ]
      },
      {
       "output_type": "stream",
       "stream": "stdout",
       "text": [
        "\n",
        "loss of test : -1.000000"
       ]
      },
      {
       "output_type": "stream",
       "stream": "stdout",
       "text": [
        "\n",
        "Took 2.250498 seconds\n",
        "epoch 14\n",
        "loss of train : -1.000000"
       ]
      },
      {
       "output_type": "stream",
       "stream": "stdout",
       "text": [
        "\n",
        "preds generated : 0.000000"
       ]
      },
      {
       "output_type": "stream",
       "stream": "stdout",
       "text": [
        "\n",
        "preds data : 0.000000\n",
        "loss of valid : -1.000000"
       ]
      },
      {
       "output_type": "stream",
       "stream": "stdout",
       "text": [
        "\n",
        "loss of test : -1.000000"
       ]
      },
      {
       "output_type": "stream",
       "stream": "stdout",
       "text": [
        "\n",
        "Took 2.156677 seconds\n",
        "epoch 15\n",
        "loss of train : -1.000000"
       ]
      },
      {
       "output_type": "stream",
       "stream": "stdout",
       "text": [
        "\n",
        "preds generated : 0.000000"
       ]
      },
      {
       "output_type": "stream",
       "stream": "stdout",
       "text": [
        "\n",
        "preds data : 0.000000\n",
        "loss of valid : -1.000000"
       ]
      },
      {
       "output_type": "stream",
       "stream": "stdout",
       "text": [
        "\n",
        "loss of test : -1.000000"
       ]
      },
      {
       "output_type": "stream",
       "stream": "stdout",
       "text": [
        "\n",
        "Took 2.150468 seconds\n",
        "epoch 16\n",
        "loss of train : -1.000000"
       ]
      },
      {
       "output_type": "stream",
       "stream": "stdout",
       "text": [
        "\n",
        "preds generated : 0.000000"
       ]
      },
      {
       "output_type": "stream",
       "stream": "stdout",
       "text": [
        "\n",
        "preds data : 0.000000\n",
        "loss of valid : -1.000000"
       ]
      },
      {
       "output_type": "stream",
       "stream": "stdout",
       "text": [
        "\n",
        "loss of test : -1.000000"
       ]
      },
      {
       "output_type": "stream",
       "stream": "stdout",
       "text": [
        "\n",
        "Took 2.160357 seconds\n",
        "epoch 17\n",
        "loss of train : -1.000000"
       ]
      },
      {
       "output_type": "stream",
       "stream": "stdout",
       "text": [
        "\n",
        "preds generated : 0.000000"
       ]
      },
      {
       "output_type": "stream",
       "stream": "stdout",
       "text": [
        "\n",
        "preds data : 0.000000\n",
        "loss of valid : -1.000000"
       ]
      },
      {
       "output_type": "stream",
       "stream": "stdout",
       "text": [
        "\n",
        "loss of test : -1.000000"
       ]
      },
      {
       "output_type": "stream",
       "stream": "stdout",
       "text": [
        "\n",
        "Took 2.328577 seconds\n",
        "epoch 18\n",
        "loss of train : -1.000000"
       ]
      },
      {
       "output_type": "stream",
       "stream": "stdout",
       "text": [
        "\n",
        "preds generated : 0.000000"
       ]
      },
      {
       "output_type": "stream",
       "stream": "stdout",
       "text": [
        "\n",
        "preds data : 0.000000\n",
        "loss of valid : -1.000000"
       ]
      },
      {
       "output_type": "stream",
       "stream": "stdout",
       "text": [
        "\n",
        "loss of test : -1.000000"
       ]
      },
      {
       "output_type": "stream",
       "stream": "stdout",
       "text": [
        "\n",
        "Took 2.274115 seconds\n",
        "epoch 19\n",
        "loss of train : -1.000000"
       ]
      },
      {
       "output_type": "stream",
       "stream": "stdout",
       "text": [
        "\n",
        "preds generated : 0.000000"
       ]
      },
      {
       "output_type": "stream",
       "stream": "stdout",
       "text": [
        "\n",
        "preds data : 0.000000\n",
        "loss of valid : -1.000000"
       ]
      },
      {
       "output_type": "stream",
       "stream": "stdout",
       "text": [
        "\n",
        "loss of test : -1.000000"
       ]
      },
      {
       "output_type": "stream",
       "stream": "stdout",
       "text": [
        "\n",
        "Took 2.682596 seconds\n"
       ]
      }
     ],
     "prompt_number": 41
    },
    {
     "cell_type": "code",
     "collapsed": false,
     "input": [
      "\n",
      "\n",
      "\n",
      "noise = generate_noise((data.X.get_value().shape[0], generator_input_dim))\n",
      "noise_images= generator_predict(noise)\n",
      "print noise_images[0, 0:10]\n",
      "print noise_images[1, 0:10]\n",
      "\n",
      "preds_generated = (discriminator_predict(noise_images))\n",
      "import matplotlib.pyplot as plt\n",
      "%matplotlib inline\n",
      "k = 1\n",
      "for y in xrange(4):\n",
      "    for x in xrange(4):\n",
      "        plt.subplot(4, 4, k)\n",
      "        plt.imshow(noise_images[np.random.randint(0, 100)].reshape( (28, 28) ) , cmap='gray')\n",
      "        k += 1\n",
      "plt.show()\n",
      "\n"
     ],
     "language": "python",
     "metadata": {},
     "outputs": [
      {
       "output_type": "stream",
       "stream": "stdout",
       "text": [
        "[ 0.49553379  0.42784414  0.42644528  0.41683492  0.43750632  0.43968391\n",
        "  0.4422226   0.45776832  0.44834182  0.43890965]\n",
        "[ 0.49210536  0.42449471  0.4225305   0.41697609  0.43702823  0.43182179\n",
        "  0.44134688  0.45730215  0.45089853  0.44363382]\n"
       ]
      },
      {
       "metadata": {},
       "output_type": "display_data",
       "png": "[encoded data removed]",
       "text": [
        "<matplotlib.figure.Figure at 0x7f2ae50a1410>"
       ]
      }
     ],
     "prompt_number": 39
    }
   ],
   "metadata": {}
  }
 ]
}